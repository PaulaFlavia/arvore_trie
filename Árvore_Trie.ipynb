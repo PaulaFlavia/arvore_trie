{
  "nbformat": 4,
  "nbformat_minor": 0,
  "metadata": {
    "colab": {
      "private_outputs": true,
      "provenance": []
    },
    "kernelspec": {
      "name": "python3",
      "display_name": "Python 3"
    },
    "language_info": {
      "name": "python"
    }
  },
  "cells": [
    {
      "cell_type": "code",
      "source": [
        "class TrieNode:\n",
        "    def __init__(self):\n",
        "        self.children = {}\n",
        "        self.is_end_of_word = False\n",
        "\n",
        "class Trie:\n",
        "    def __init__(self):\n",
        "        self.root = TrieNode()\n",
        "\n",
        "    def inserir(self, palavra):\n",
        "        node = self.root\n",
        "        for char in palavra:\n",
        "            if char not in node.children:\n",
        "                node.children[char] = TrieNode()\n",
        "            node = node.children[char]\n",
        "        node.is_end_of_word = True\n",
        "\n",
        "    def buscar(self, palavra):\n",
        "        node = self.root\n",
        "        for char in palavra:\n",
        "            if char not in node.children:\n",
        "                return False\n",
        "            node = node.children[char]\n",
        "        return node.is_end_of_word\n",
        "\n",
        "    def deletar(self, palavra):\n",
        "        def _deletar_recursivamente(node, palavra, index):\n",
        "            if index == len(palavra):\n",
        "                if not node.is_end_of_word:\n",
        "                    return False\n",
        "                node.is_end_of_word = False\n",
        "                return True\n",
        "            char = palavra[index]\n",
        "            if char not in node.children:\n",
        "                return False\n",
        "            return _deletar_recursivamente(node.children[char], palavra, index + 1)\n",
        "\n",
        "        return _deletar_recursivamente(self.root, palavra, 0)\n",
        "\n",
        "    def listar_palavras(self):\n",
        "        def _listar_palavras_recursivamente(node, prefixo, lista_palavras):\n",
        "            if node.is_end_of_word:\n",
        "                lista_palavras.append(prefixo)\n",
        "            for char, child in node.children.items():\n",
        "                _listar_palavras_recursivamente(child, prefixo + char, lista_palavras)\n",
        "\n",
        "        lista_palavras = []\n",
        "        _listar_palavras_recursivamente(self.root, \"\", lista_palavras)\n",
        "        return lista_palavras\n",
        "\n"
      ],
      "metadata": {
        "id": "XFrP1MrlcSoF"
      },
      "execution_count": null,
      "outputs": []
    },
    {
      "cell_type": "code",
      "source": [
        "trie = Trie()\n",
        "trie.inserir(\"algo\")\n",
        "trie.inserir(\"algoz\")\n",
        "trie.inserir(\"algoritmo\")\n",
        "trie.inserir(\"algema\")\n",
        "\n",
        "lista_palavras = trie.listar_palavras()\n",
        "print(lista_palavras)  # Saída: ['palavra1', 'palavra2', 'palavra3']"
      ],
      "metadata": {
        "id": "RCfEzy-5ZWIn"
      },
      "execution_count": null,
      "outputs": []
    },
    {
      "cell_type": "code",
      "source": [
        "resultado = trie.buscar(\"algema\")\n",
        "print(resultado)  # Saída: True\n",
        "\n",
        "resultado = trie.buscar(\"alfarrábio\")\n",
        "print(resultado)  # Saída: False\n"
      ],
      "metadata": {
        "id": "H8IK2bUlZkBz"
      },
      "execution_count": null,
      "outputs": []
    },
    {
      "cell_type": "code",
      "source": [
        "retirada = trie.deletar(\"algoz\")\n",
        "lista_palavras = trie.listar_palavras()\n",
        "\n",
        "print(retirada)  # Saída: True\n",
        "print(lista_palavras)  # Saída: ['algo', 'algoritmo']"
      ],
      "metadata": {
        "id": "ezbt0cF5ZqO4"
      },
      "execution_count": null,
      "outputs": []
    }
  ]
}